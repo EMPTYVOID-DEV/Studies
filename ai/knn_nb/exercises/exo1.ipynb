{
 "cells": [
  {
   "cell_type": "markdown",
   "metadata": {},
   "source": [
    "Importing modules\n"
   ]
  },
  {
   "cell_type": "code",
   "execution_count": 26,
   "metadata": {
    "tags": []
   },
   "outputs": [],
   "source": [
    "import matplotlib.pyplot as plt\n",
    "from pandas import DataFrame\n",
    "from sklearn.datasets import fetch_openml\n",
    "from sklearn.model_selection import train_test_split\n",
    "from sklearn.neighbors import KNeighborsClassifier\n",
    "from sklearn.linear_model import LogisticRegression\n",
    "from sklearn.tree import DecisionTreeClassifier\n",
    "from sklearn.metrics import confusion_matrix, accuracy_score\n",
    "import matplotlib.pyplot as plt"
   ]
  },
  {
   "cell_type": "markdown",
   "metadata": {},
   "source": [
    "loading the data and printing the first 5 images as well as a description of the data\n"
   ]
  },
  {
   "cell_type": "code",
   "execution_count": 22,
   "metadata": {
    "tags": []
   },
   "outputs": [
    {
     "data": {
      "image/png": "[encoded data removed]",
      "text/plain": [
       "<Figure size 640x480 with 5 Axes>"
      ]
     },
     "metadata": {},
     "output_type": "display_data"
    }
   ],
   "source": [
    "mnist = fetch_openml(\"mnist_784\", version=1)\n",
    "x = DataFrame(mnist.data)\n",
    "y = DataFrame(mnist.target).values.ravel()\n",
    "x = x.iloc[:2000, :]\n",
    "y = y[:2000]\n",
    "for i in range(5):\n",
    "    plt.subplot(1, 5, i + 1)\n",
    "    plt.imshow(x.loc[i].values.reshape(28, 28), cmap=\"gray\")\n",
    "    plt.axis(\"off\")\n",
    "plt.show()"
   ]
  },
  {
   "cell_type": "markdown",
   "metadata": {},
   "source": [
    "spliting data into 80% train and 20% test and creating a knn model with k=3 and k=5\n",
    ",we also gonna create a decision tree and logistic regression models for comparison\n"
   ]
  },
  {
   "cell_type": "code",
   "execution_count": 23,
   "metadata": {
    "tags": []
   },
   "outputs": [],
   "source": [
    "xTrain, xTest, yTrain, yTest = train_test_split(x, y, random_state=42, test_size=0.2)\n",
    "models = [\n",
    "    (\"knn with k=3\", KNeighborsClassifier(n_neighbors=3)),\n",
    "    (\"knn with k=5\", KNeighborsClassifier(n_neighbors=5)),\n",
    "    (\"Logistic regression\", LogisticRegression(max_iter=1000)),\n",
    "    (\"Decision tree\", DecisionTreeClassifier()),\n",
    "]"
   ]
  },
  {
   "cell_type": "markdown",
   "metadata": {},
   "source": [
    "we gonna loop over the list of models train , test and calculating the accuracy , confusion matrix of each model.\n"
   ]
  },
  {
   "cell_type": "code",
   "execution_count": 38,
   "metadata": {},
   "outputs": [
    {
     "name": "stdout",
     "output_type": "stream",
     "text": [
      "knn with k=3\n",
      "accuarcy 0.88\n",
      "confusion_matrix :\n",
      "[[39  0  1  1  0  0  1  0  0  1]\n",
      " [ 1 53  2  1  2  1  0  2  3  0]\n",
      " [ 0  0 25  0  0  0  0  0  1  1]\n",
      " [ 0  0  0 34  0  4  0  0  2  1]\n",
      " [ 0  0  2  0 38  1  0  1  0  5]\n",
      " [ 0  0  0  0  1 33  1  0  1  0]\n",
      " [ 0  0  0  0  1  1 33  0  0  1]\n",
      " [ 0  0  2  0  0  0  0 34  0  0]\n",
      " [ 0  0  0  1  0  0  0  0 22  0]\n",
      " [ 0  0  0  1  0  0  0  3  1 41]]\n",
      "knn with k=5\n",
      "accuarcy 0.8825\n",
      "confusion_matrix :\n",
      "[[38  0  2  1  0  0  2  0  0  1]\n",
      " [ 1 53  2  1  2  0  0  2  3  0]\n",
      " [ 0  0 24  0  0  0  0  0  1  1]\n",
      " [ 0  0  0 33  0  4  0  0  1  1]\n",
      " [ 0  0  2  0 39  1  0  2  0  2]\n",
      " [ 1  0  0  0  1 32  1  0  0  0]\n",
      " [ 0  0  0  0  0  3 32  0  0  1]\n",
      " [ 0  0  2  1  0  0  0 34  0  0]\n",
      " [ 0  0  0  1  0  0  0  0 25  1]\n",
      " [ 0  0  0  1  0  0  0  2  0 43]]\n",
      "Logistic regression\n",
      "accuarcy 0.8625\n",
      "confusion_matrix :\n",
      "[[34  0  0  0  0  0  1  0  0  0]\n",
      " [ 0 51  0  0  0  1  0  0  3  0]\n",
      " [ 1  2 29  1  1  1  0  1  1  1]\n",
      " [ 1  0  0 33  0  3  0  0  0  1]\n",
      " [ 0  0  1  0 38  0  0  1  0  3]\n",
      " [ 1  0  0  2  0 28  1  0  1  0]\n",
      " [ 0  0  0  0  1  2 32  0  1  0]\n",
      " [ 1  0  1  0  0  0  0 35  1  2]\n",
      " [ 2  0  0  0  0  5  0  1 23  1]\n",
      " [ 0  0  1  2  2  0  1  2  0 42]]\n",
      "Decision tree\n",
      "accuarcy 0.725\n",
      "confusion_matrix :\n",
      "[[30  0  1  1  0  1  1  0  0  1]\n",
      " [ 2 47  1  2  2  3  0  1  1  0]\n",
      " [ 2  3 20  1  1  0  3  1  1  1]\n",
      " [ 1  0  0 20  0  3  1  1  3  3]\n",
      " [ 0  0  3  2 32  1  3  0  1  6]\n",
      " [ 0  1  1  3  0 28  0  0  0  5]\n",
      " [ 0  0  0  1  1  1 26  0  1  0]\n",
      " [ 0  0  4  3  0  0  0 33  1  1]\n",
      " [ 2  2  1  1  2  3  0  1 22  1]\n",
      " [ 3  0  1  4  4  0  1  3  0 32]]\n"
     ]
    },
    {
     "data": {
      "image/png": "[encoded data removed]",
      "text/plain": [
       "<Figure size 800x600 with 1 Axes>"
      ]
     },
     "metadata": {},
     "output_type": "display_data"
    }
   ],
   "source": [
    "accuracies = []\n",
    "\n",
    "for name, model in models:\n",
    "    print(name)\n",
    "    model.fit(xTrain, yTrain)\n",
    "    pred = model.predict(xTest)\n",
    "    accuracy = accuracy_score(pred, yTest)\n",
    "    print(\"accuarcy \" + str(accuracy))    \n",
    "    accuracies.append(accuracy)    \n",
    "    confusionMatrix = confusion_matrix(pred, yTest)\n",
    "    print(\"confusion_matrix :\\n\" + str(confusionMatrix)) \n",
    "    confusionMatrices.append(confusionMatrix)\n",
    "    \n",
    "plt.figure(figsize=(8, 6))\n",
    "plt.bar([model[0] for model in models], accuracies)\n",
    "plt.xlabel(\"Model\")\n",
    "plt.ylabel(\"Accuracy\")\n",
    "plt.xticks(rotation=45)\n",
    "plt.show()\n"
   ]
  },
  {
   "cell_type": "markdown",
   "metadata": {},
   "source": [
    "The KNN model with k=3 achieved the highest accuracy of 0.88, followed by the KNN model with k=5 at 0.8825. The Logistic Regression model had an accuracy of 0.8625, while the Decision Tree model performed the worst with an accuracy of 0.725. "
   ]
  }
 ],
 "metadata": {
  "kernelspec": {
   "display_name": "Python 3",
   "language": "python",
   "name": "python3"
  },
  "language_info": {
   "codemirror_mode": {
    "name": "ipython",
    "version": 3
   },
   "file_extension": ".py",
   "mimetype": "text/x-python",
   "name": "python",
   "nbconvert_exporter": "python",
   "pygments_lexer": "ipython3",
   "version": "3.10.12"
  }
 },
 "nbformat": 4,
 "nbformat_minor": 4
}
