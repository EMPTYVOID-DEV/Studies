{
 "cells": [
  {
   "cell_type": "code",
   "execution_count": 51,
   "metadata": {},
   "outputs": [],
   "source": [
    "import numpy as np\n",
    "from sklearn.preprocessing import LabelEncoder\n",
    "from pandas import read_csv\n",
    "from scipy.stats import pearsonr\n",
    "from sklearn.metrics import accuracy_score,confusion_matrix,classification_report\n",
    "from sklearn.model_selection import train_test_split\n",
    "from sklearn.linear_model import LogisticRegression\n"
   ]
  },
  {
   "cell_type": "code",
   "execution_count": 56,
   "metadata": {},
   "outputs": [],
   "source": [
    "data=read_csv(\"../data/vehicle.csv\")\n",
    "descripition=data.describe()"
   ]
  },
  {
   "cell_type": "code",
   "execution_count": 54,
   "metadata": {},
   "outputs": [],
   "source": [
    "cleanData=data.dropna()\n",
    "labelEncoder=LabelEncoder()\n",
    "x=cleanData.drop(\"class\",axis=1)\n",
    "y=labelEncoder.fit_transform(cleanData[\"class\"])\n",
    "xTrain,xTest,yTrain,yTest=train_test_split(x,y,test_size=0.3,random_state=42)"
   ]
  },
  {
   "cell_type": "code",
   "execution_count": 50,
   "metadata": {},
   "outputs": [
    {
     "name": "stdout",
     "output_type": "stream",
     "text": [
      "0.8852459016393442 [[ 51   8   1]\n",
      " [ 10 123   5]\n",
      " [  3   1  42]]               precision    recall  f1-score   support\n",
      "\n",
      "           0       0.80      0.85      0.82        60\n",
      "           1       0.93      0.89      0.91       138\n",
      "           2       0.88      0.91      0.89        46\n",
      "\n",
      "    accuracy                           0.89       244\n",
      "   macro avg       0.87      0.88      0.88       244\n",
      "weighted avg       0.89      0.89      0.89       244\n",
      "\n"
     ]
    }
   ],
   "source": [
    "model=LogisticRegression(tol=0.5,max_iter=3000,random_state=42)\n",
    "model.fit(xTrain,yTrain)\n",
    "predict=model.predict(xTest)\n",
    "accuracy=accuracy_score(y_true=yTest,y_pred=predict)\n",
    "confusion=confusion_matrix(y_true=yTest,y_pred=predict)\n",
    "classification=classification_report(y_true=yTest,y_pred=predict)\n",
    "print(accuracy,confusion,classification)"
   ]
  }
 ],
 "metadata": {
  "kernelspec": {
   "display_name": "Python 3",
   "language": "python",
   "name": "python3"
  },
  "language_info": {
   "codemirror_mode": {
    "name": "ipython",
    "version": 3
   },
   "file_extension": ".py",
   "mimetype": "text/x-python",
   "name": "python",
   "nbconvert_exporter": "python",
   "pygments_lexer": "ipython3",
   "version": "3.10.12"
  }
 },
 "nbformat": 4,
 "nbformat_minor": 2
}
