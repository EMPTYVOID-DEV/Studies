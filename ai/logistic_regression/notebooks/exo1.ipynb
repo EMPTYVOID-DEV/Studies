{
 "cells": [
  {
   "cell_type": "code",
   "execution_count": 4,
   "metadata": {},
   "outputs": [],
   "source": [
    "from pandas import read_csv\n",
    "from sklearn.preprocessing import StandardScaler"
   ]
  },
  {
   "cell_type": "code",
   "execution_count": 7,
   "metadata": {},
   "outputs": [
    {
     "name": "stdout",
     "output_type": "stream",
     "text": [
      "[[ 0.16058035  0.515771    0.05641152 ...  0.38044029 -0.31200827\n",
      "   0.18395733]\n",
      " [-0.32546965 -0.62271564  0.1198274  ...  0.15649599  0.01308049\n",
      "   0.45297703]\n",
      " [ 1.25419283  0.84105289  1.5149769  ... -0.40336477 -0.14946389\n",
      "   0.04944748]\n",
      " ...\n",
      " [ 1.49721783  1.49161668  1.19789747 ... -0.96322552 -0.31200827\n",
      "   0.72199673]\n",
      " [-0.93303214 -1.43592038 -0.26066791 ...  1.38818965  0.17562488\n",
      "  -0.08506238]\n",
      " [-1.05454464 -1.43592038 -1.02165854 ...  0.60438459 -0.47455265\n",
      "  -0.75761164]]\n"
     ]
    }
   ],
   "source": [
    "data=read_csv(\"../data/vehicle.csv\")\n",
    "x=data.drop(\"class\",axis=1)\n",
    "y=data[\"class\"]\n",
    "scaler=StandardScaler()\n",
    "scaleX=scaler.fit_transform(x)\n",
    "print(scaleX)"
   ]
  }
 ],
 "metadata": {
  "kernelspec": {
   "display_name": "Python 3",
   "language": "python",
   "name": "python3"
  },
  "language_info": {
   "codemirror_mode": {
    "name": "ipython",
    "version": 3
   },
   "file_extension": ".py",
   "mimetype": "text/x-python",
   "name": "python",
   "nbconvert_exporter": "python",
   "pygments_lexer": "ipython3",
   "version": "3.10.12"
  }
 },
 "nbformat": 4,
 "nbformat_minor": 2
}
