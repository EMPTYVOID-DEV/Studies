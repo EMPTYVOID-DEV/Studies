{
 "cells": [
  {
   "cell_type": "markdown",
   "id": "df1d34ff",
   "metadata": {},
   "source": [
    "We have a dataset to identify a voice as male or female,based upon several properties of voice.We going to try to use support vector machines for this one."
   ]
  },
  {
   "cell_type": "markdown",
   "id": "c2ee63e4",
   "metadata": {},
   "source": [
    "First let load the needed modules"
   ]
  },
  {
   "cell_type": "code",
   "execution_count": 1,
   "metadata": {},
   "outputs": [],
   "source": [
    "from pandas import read_csv \n",
    "from sklearn.preprocessing import StandardScaler\n",
    "from sklearn.svm import SVC\n",
    "from sklearn.model_selection import train_test_split\n",
    "from sklearn.metrics import confusion_matrix,accuracy_score"
   ]
  },
  {
   "cell_type": "markdown",
   "id": "d13e5c93",
   "metadata": {},
   "source": [
    "Then let load the dataset and whether is there any missing values."
   ]
  },
  {
   "cell_type": "code",
   "execution_count": 2,
   "id": "a36c82a0",
   "metadata": {},
   "outputs": [
    {
     "name": "stdout",
     "output_type": "stream",
     "text": [
      "   meanfreq        sd    median       Q25       Q75       IQR       skew  \\\n",
      "0  0.059781  0.064241  0.032027  0.015071  0.090193  0.075122  12.863462   \n",
      "1  0.066009  0.067310  0.040229  0.019414  0.092666  0.073252  22.423285   \n",
      "2  0.077316  0.083829  0.036718  0.008701  0.131908  0.123207  30.757155   \n",
      "3  0.151228  0.072111  0.158011  0.096582  0.207955  0.111374   1.232831   \n",
      "4  0.135120  0.079146  0.124656  0.078720  0.206045  0.127325   1.101174   \n",
      "\n",
      "          kurt    sp.ent       sfm  ...  centroid   meanfun    minfun  \\\n",
      "0   274.402906  0.893369  0.491918  ...  0.059781  0.084279  0.015702   \n",
      "1   634.613855  0.892193  0.513724  ...  0.066009  0.107937  0.015826   \n",
      "2  1024.927705  0.846389  0.478905  ...  0.077316  0.098706  0.015656   \n",
      "3     4.177296  0.963322  0.727232  ...  0.151228  0.088965  0.017798   \n",
      "4     4.333713  0.971955  0.783568  ...  0.135120  0.106398  0.016931   \n",
      "\n",
      "     maxfun   meandom    mindom    maxdom   dfrange   modindx  label  \n",
      "0  0.275862  0.007812  0.007812  0.007812  0.000000  0.000000   male  \n",
      "1  0.250000  0.009014  0.007812  0.054688  0.046875  0.052632   male  \n",
      "2  0.271186  0.007990  0.007812  0.015625  0.007812  0.046512   male  \n",
      "3  0.250000  0.201497  0.007812  0.562500  0.554688  0.247119   male  \n",
      "4  0.266667  0.712812  0.007812  5.484375  5.476562  0.208274   male  \n",
      "\n",
      "[5 rows x 21 columns]\n",
      "False\n"
     ]
    }
   ],
   "source": [
    "data=read_csv(\"../data/voice.csv\")\n",
    "isMissing=data.isna().any().any()\n",
    "print(data.head(5))\n",
    "print(isMissing)"
   ]
  },
  {
   "cell_type": "markdown",
   "id": "cbf0622e",
   "metadata": {},
   "source": [
    "Upon examining the dataset, it appears there is no missing data .However from the looks of it we need to standardize the features and encode the labels (male as 1 and female as 0)."
   ]
  },
  {
   "cell_type": "code",
   "execution_count": 3,
   "id": "677ce4dd",
   "metadata": {},
   "outputs": [
    {
     "name": "stdout",
     "output_type": "stream",
     "text": [
      "[[-4.04924806  0.4273553  -4.22490077 ... -1.43142165 -1.41913712\n",
      "  -1.45477229]\n",
      " [-3.84105325  0.6116695  -3.99929342 ... -1.41810716 -1.4058184\n",
      "  -1.01410294]\n",
      " [-3.46306647  1.60384791 -4.09585052 ... -1.42920257 -1.41691733\n",
      "  -1.06534356]\n",
      " ...\n",
      " [-1.29877326  2.32272355 -0.05197279 ... -0.5992661  -0.58671739\n",
      "   0.17588664]\n",
      " [-1.2452018   2.012196   -0.01772849 ... -0.41286326 -0.40025537\n",
      "   1.14916112]\n",
      " [-0.51474626  2.14765111 -0.07087873 ... -1.27608595 -1.2637521\n",
      "   1.47567886]] 0        True\n",
      "1        True\n",
      "2        True\n",
      "3        True\n",
      "4        True\n",
      "        ...  \n",
      "3163    False\n",
      "3164    False\n",
      "3165    False\n",
      "3166    False\n",
      "3167    False\n",
      "Name: label, Length: 3168, dtype: bool\n"
     ]
    }
   ],
   "source": [
    "x=data.drop(\"label\",axis=1)\n",
    "y=(data[\"label\"]==\"male\")\n",
    "scaler=StandardScaler()\n",
    "X=scaler.fit_transform(x)\n",
    "print(X,y)"
   ]
  },
  {
   "cell_type": "markdown",
   "id": "0f75d767",
   "metadata": {},
   "source": [
    "Let split the data into training and testing sets."
   ]
  },
  {
   "cell_type": "code",
   "execution_count": 4,
   "id": "5172ba43",
   "metadata": {},
   "outputs": [],
   "source": [
    "xTrain,xTest,yTrain,yTest=train_test_split(X,y,random_state=42,test_size=0.2)"
   ]
  },
  {
   "cell_type": "markdown",
   "id": "849f88eb",
   "metadata": {},
   "source": [
    "Now, we will create multiple SVM models with varying hyperparameters, evaluating each model's effectiveness using confusion matrix and accuracy score."
   ]
  },
  {
   "cell_type": "code",
   "execution_count": 5,
   "id": "649fc470",
   "metadata": {},
   "outputs": [],
   "source": [
    "models=[\n",
    "  (SVC(kernel=\"linear\"),\"Simple linear svm\"),\n",
    "  (SVC(kernel=\"linear\",C=100),\"Linear svm with 100 acceptable errors\"),\n",
    " (SVC(kernel=\"linear\",C=1000),\"Linear svm with 1000 acceptable errors\"),   \n",
    " ( SVC(kernel=\"poly\"),\"Polynomial svm\")\n",
    "]"
   ]
  },
  {
   "cell_type": "markdown",
   "id": "1bc676c3",
   "metadata": {},
   "source": [
    "Now let train and test all of these models"
   ]
  },
  {
   "cell_type": "code",
   "execution_count": 6,
   "id": "16d33d20",
   "metadata": {},
   "outputs": [
    {
     "name": "stdout",
     "output_type": "stream",
     "text": [
      "Simple linear svm\n",
      "Accuracy score is : 0.9763406940063092\n",
      "Confusion matrix is : [[293   4]\n",
      " [ 11 326]]\n",
      "Linear svm with 100 acceptable errors\n",
      "Accuracy score is : 0.9763406940063092\n",
      "Confusion matrix is : [[293   4]\n",
      " [ 11 326]]\n",
      "Linear svm with 1000 acceptable errors\n",
      "Accuracy score is : 0.9763406940063092\n",
      "Confusion matrix is : [[293   4]\n",
      " [ 11 326]]\n",
      "Polynomial svm\n",
      "Accuracy score is : 0.9684542586750788\n",
      "Confusion matrix is : [[282  15]\n",
      " [  5 332]]\n"
     ]
    }
   ],
   "source": [
    "for (model,description) in models:\n",
    "  model.fit(xTrain,yTrain)\n",
    "  pred=model.predict(xTest)\n",
    "  print(description)\n",
    "  accuracyScore=accuracy_score(y_pred=pred,y_true=yTest)\n",
    "  confusionMatrix=confusion_matrix(y_pred=pred,y_true=yTest)\n",
    "  print(\"Accuracy score is : \"+str(accuracyScore))\n",
    "  print(\"Confusion matrix is : \"+str(confusionMatrix))\n"
   ]
  },
  {
   "cell_type": "markdown",
   "id": "369ac704",
   "metadata": {},
   "source": [
    "Based on the results obtained, we can draw the following inferences:\n",
    "\n",
    "1. The data exhibits a linear relationship, as evidenced by the decreased accuracy when employing a polynomial kernel, suggesting that a linear decision boundary is more appropriate for this dataset.\n",
    "\n",
    "2. The observations for the **male** and **female** classes appear to be well-separated and does not have much outliers. This deduction arises from the consistent model accuracy across different values of the regularization parameter C."
   ]
  }
 ],
 "metadata": {
  "kernelspec": {
   "display_name": "Python 3",
   "language": "python",
   "name": "python3"
  },
  "language_info": {
   "codemirror_mode": {
    "name": "ipython",
    "version": 3
   },
   "file_extension": ".py",
   "mimetype": "text/x-python",
   "name": "python",
   "nbconvert_exporter": "python",
   "pygments_lexer": "ipython3",
   "version": "3.10.12"
  }
 },
 "nbformat": 4,
 "nbformat_minor": 5
}
